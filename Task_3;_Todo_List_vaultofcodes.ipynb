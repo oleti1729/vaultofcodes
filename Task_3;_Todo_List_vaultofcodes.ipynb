{
  "nbformat": 4,
  "nbformat_minor": 0,
  "metadata": {
    "colab": {
      "provenance": [],
      "authorship_tag": "ABX9TyN0iCv7iuY9vKNu8FmdC0hc",
      "include_colab_link": true
    },
    "kernelspec": {
      "name": "python3",
      "display_name": "Python 3"
    },
    "language_info": {
      "name": "python"
    }
  },
  "cells": [
    {
      "cell_type": "markdown",
      "metadata": {
        "id": "view-in-github",
        "colab_type": "text"
      },
      "source": [
        "<a href=\"https://colab.research.google.com/github/oleti1729/vaultofcodes/blob/main/Task_3%3B_Todo_List_vaultofcodes.ipynb\" target=\"_parent\"><img src=\"https://colab.research.google.com/assets/colab-badge.svg\" alt=\"Open In Colab\"/></a>"
      ]
    },
    {
      "cell_type": "code",
      "execution_count": 1,
      "metadata": {
        "colab": {
          "base_uri": "https://localhost:8080/"
        },
        "id": "siSMl9aNu58Z",
        "outputId": "a2d10a6e-ba30-46f6-e78e-db92b4294745"
      },
      "outputs": [
        {
          "name": "stdout",
          "output_type": "stream",
          "text": [
            "\n",
            "Menu:\n",
            "1. Display To-Do List\n",
            "2. Add Task\n",
            "3. Remove Task\n",
            "4. Quit\n",
            "Task 'Want to play music' added to the list.\n",
            "\n",
            "Menu:\n",
            "1. Display To-Do List\n",
            "2. Add Task\n",
            "3. Remove Task\n",
            "4. Quit\n",
            "Task 'Want to play music' removed from the list.\n",
            "\n",
            "Menu:\n",
            "1. Display To-Do List\n",
            "2. Add Task\n",
            "3. Remove Task\n",
            "4. Quit\n",
            "Enter your choice: 4\n"
          ]
        }
      ],
      "source": [
        "\n",
        "# Function to display the to-do list\n",
        "def display_list(todo_list):\n",
        "    print(\"To-Do List:\")\n",
        "    for i, task in enumerate(todo_list):\n",
        "        print(f\"{i + 1}. {task}\")\n",
        "\n",
        "# Function to add a task to the to-do list\n",
        "def add_task(todo_list, task):\n",
        "    todo_list.append(task)\n",
        "    print(f\"Task '{task}' added to the list.\")\n",
        "\n",
        "# Function to remove a task from the to-do list\n",
        "def remove_task(todo_list, task_index):\n",
        "    if 1 <= task_index <= len(todo_list):\n",
        "        removed_task = todo_list.pop(task_index - 1)\n",
        "        print(f\"Task '{removed_task}' removed from the list.\")\n",
        "    else:\n",
        "        print(\"Invalid task index. Please enter a valid index.\")\n",
        "\n",
        "\n",
        "def main():\n",
        "    # Initialize the to-do list\n",
        "    todo_list = []\n",
        "\n",
        "    while True:\n",
        "        # Display the menu\n",
        "        print(\"\\nMenu:\")\n",
        "        print(\"1. Display To-Do List\")\n",
        "        print(\"2. Add Task\")\n",
        "        print(\"3. Remove Task\")\n",
        "        print(\"4. Quit\")\n",
        "\n",
        "        # Get user's choice\n",
        "        choice = input(\"Enter your choice: \")\n",
        "\n",
        "        if choice == \"1\":\n",
        "            display_list(todo_list)\n",
        "        elif choice == \"2\":\n",
        "            task = input(\"Enter the task to add: \")\n",
        "            add_task(todo_list, task)\n",
        "        elif choice == \"3\":\n",
        "            try:\n",
        "                task_index = int(input(\"Enter the index of the task to remove: \"))\n",
        "                remove_task(todo_list, task_index)\n",
        "            except ValueError:\n",
        "                print(\"Invalid input. Please enter a valid index.\")\n",
        "        elif choice == \"4\":\n",
        "            break\n",
        "        else:\n",
        "            print(\"Invalid choice. Please select a valid option.\")\n",
        "\n",
        "if __name__ == \"__main__\":\n",
        "    main()"
      ]
    }
  ]
}